{
 "cells": [
  {
   "cell_type": "markdown",
   "metadata": {},
   "source": [
    "# Ch-1 Python Pandas\n",
    "Pandas:panel data,python data analysis\n",
    "Pandas series\n",
    "-series is like a column in a table.\n",
    "-1D array holding data of any type."
   ]
  },
  {
   "cell_type": "code",
   "execution_count": 8,
   "metadata": {},
   "outputs": [
    {
     "name": "stdout",
     "output_type": "stream",
     "text": [
      "x    1\n",
      "y    7\n",
      "z    2\n",
      "dtype: int64\n",
      "<class 'pandas.core.series.Series'>\n",
      "7\n"
     ]
    }
   ],
   "source": [
    "import pandas as pd\n",
    "a=[1,7,2]\n",
    "myvar=pd.Series(a)\n",
    "print(myvar)\n",
    "print(type(myvar))\n",
    "print(myvar[1])"
   ]
  },
  {
   "cell_type": "code",
   "execution_count": 14,
   "metadata": {},
   "outputs": [
    {
     "name": "stdout",
     "output_type": "stream",
     "text": [
      "x    1\n",
      "y    7\n",
      "z    2\n",
      "dtype: int64\n",
      "<class 'pandas.core.series.Series'>\n",
      "1\n",
      "1\n"
     ]
    }
   ],
   "source": [
    "a=[1,7,2]\n",
    "myvar=pd.Series(a,index=[\"x\",\"y\",\"z\"])\n",
    "print(myvar)\n",
    "print(type(myvar))\n",
    "print(myvar[\"x\"])\n",
    "print(myvar[0])"
   ]
  },
  {
   "cell_type": "code",
   "execution_count": 17,
   "metadata": {},
   "outputs": [
    {
     "name": "stdout",
     "output_type": "stream",
     "text": [
      "0    1.4\n",
      "1      2\n",
      "2      3\n",
      "3      4\n",
      "dtype: object\n",
      "0    1.4\n",
      "1    2.0\n",
      "2    3.0\n",
      "3    4.0\n",
      "dtype: float64\n",
      "<class 'pandas.core.series.Series'>\n",
      "<class 'pandas.core.series.Series'>\n"
     ]
    }
   ],
   "source": [
    "a=[1.4,'2',3,4]#type object\n",
    "b=[1.4,2,3,4]#float\n",
    "myvar=pd.Series(a)\n",
    "myvar1=pd.Series(b)\n",
    "print(myvar)\n",
    "print(myvar1)\n",
    "print(type(myvar))\n",
    "print(type(myvar1))"
   ]
  },
  {
   "cell_type": "code",
   "execution_count": 21,
   "metadata": {},
   "outputs": [
    {
     "name": "stdout",
     "output_type": "stream",
     "text": [
      "Ram      50\n",
      "shyam    60\n",
      "radha    70\n",
      "seeta    80\n",
      "geeta    90\n",
      "dtype: int64\n"
     ]
    }
   ],
   "source": [
    "import pandas as pd\n",
    "student_name=[\"Ram\",\"shyam\",\"radha\",\"seeta\",\"geeta\"]\n",
    "marks=[50,60,70,80,90]\n",
    "var=pd.Series(marks,index=student_name)\n",
    "print(var)"
   ]
  },
  {
   "cell_type": "code",
   "execution_count": 26,
   "metadata": {},
   "outputs": [
    {
     "name": "stdout",
     "output_type": "stream",
     "text": [
      "day1    400\n",
      "day2    350\n",
      "day3    430\n",
      "dtype: int64\n"
     ]
    }
   ],
   "source": [
    "calories={'day1':400,'day2':350,'day3':430}\n",
    "myvar=pd.Series(calories)\n",
    "#myvar=pd.Series(calories,index=['day1','day2'])\n",
    "print(myvar)"
   ]
  },
  {
   "cell_type": "code",
   "execution_count": 35,
   "metadata": {},
   "outputs": [
    {
     "name": "stdout",
     "output_type": "stream",
     "text": [
      "Ram      80\n",
      "Shyam    70\n",
      "Seeta    75\n",
      "Geeta    72\n",
      "Name: Result, dtype: int64\n",
      "4\n",
      "int64\n",
      "Index(['Ram', 'Shyam', 'Seeta', 'Geeta'], dtype='object')\n",
      "[80 70 75 72]\n",
      "True\n"
     ]
    }
   ],
   "source": [
    "marks={'Ram':80,'Shyam':70,'Seeta':75,'Geeta':72}\n",
    "var=pd.Series(marks,name='Result')\n",
    "print(var)\n",
    "print(var.size)\n",
    "print(var.dtype)\n",
    "print(var.index)\n",
    "print(var.values)\n",
    "print(var.is_unique)#value unique then true or else false."
   ]
  },
  {
   "cell_type": "code",
   "execution_count": 44,
   "metadata": {},
   "outputs": [
    {
     "name": "stdout",
     "output_type": "stream",
     "text": [
      "     Subscribers gained\n",
      "0                    48\n",
      "1                    57\n",
      "2                    40\n",
      "3                    43\n",
      "4                    44\n",
      "..                  ...\n",
      "360                 231\n",
      "361                 226\n",
      "362                 155\n",
      "363                 144\n",
      "364                 172\n",
      "\n",
      "[365 rows x 1 columns]\n",
      "<class 'pandas.core.frame.DataFrame'>\n",
      "<class 'pandas.core.frame.DataFrame'>\n",
      "RangeIndex: 365 entries, 0 to 364\n",
      "Data columns (total 1 columns):\n",
      " #   Column              Non-Null Count  Dtype\n",
      "---  ------              --------------  -----\n",
      " 0   Subscribers gained  365 non-null    int64\n",
      "dtypes: int64(1)\n",
      "memory usage: 3.0 KB\n",
      "None\n"
     ]
    }
   ],
   "source": [
    "subs=pd.read_csv(\"subs.csv\")\n",
    "print(subs)\n",
    "print(type(subs))\n",
    "print(subs.info())#work only for data frame"
   ]
  },
  {
   "cell_type": "code",
   "execution_count": 54,
   "metadata": {},
   "outputs": [
    {
     "name": "stdout",
     "output_type": "stream",
     "text": [
      "0       48\n",
      "1       57\n",
      "2       40\n",
      "3       43\n",
      "4       44\n",
      "      ... \n",
      "360    231\n",
      "361    226\n",
      "362    155\n",
      "363    144\n",
      "364    172\n",
      "Name: Subscribers gained, Length: 365, dtype: int64\n",
      "<class 'pandas.core.series.Series'>\n",
      "count    365.000000\n",
      "mean     135.643836\n",
      "std       62.675023\n",
      "min       33.000000\n",
      "25%       88.000000\n",
      "50%      123.000000\n",
      "75%      177.000000\n",
      "max      396.000000\n",
      "Name: Subscribers gained, dtype: float64\n",
      "33\n",
      "396\n",
      "123.0\n",
      "49510\n",
      "181\n"
     ]
    },
    {
     "data": {
      "text/plain": [
       "181"
      ]
     },
     "execution_count": 54,
     "metadata": {},
     "output_type": "execute_result"
    }
   ],
   "source": [
    "subs=pd.read_csv(\"subs.csv\",squeeze=True)#squeeze convert dataframe to panda series for one column only otherwise no error.\n",
    "print(subs)\n",
    "print(type(subs))\n",
    "print(subs.describe())#work only for panda series\n",
    "print(subs.min())\n",
    "print(subs.max())\n",
    "print(subs.median())\n",
    "print(subs.sum())\n",
    "#subs[subs>200]\n",
    "subs[subs>200].count()#or size which is attribute\n",
    "a=subs[subs>100].size\n",
    "b=subs[subs>200].size\n",
    "c=a-b\n",
    "print(c)\n",
    "subs[subs>100].size-subs[subs>200].size"
   ]
  },
  {
   "cell_type": "code",
   "execution_count": 56,
   "metadata": {},
   "outputs": [
    {
     "name": "stdout",
     "output_type": "stream",
     "text": [
      "<class 'pandas.core.frame.DataFrame'>\n",
      "RangeIndex: 1500 entries, 0 to 1499\n",
      "Data columns (total 2 columns):\n",
      " #   Column  Non-Null Count  Dtype \n",
      "---  ------  --------------  ----- \n",
      " 0   movie   1500 non-null   object\n",
      " 1   lead    1500 non-null   object\n",
      "dtypes: object(2)\n",
      "memory usage: 23.6+ KB\n"
     ]
    }
   ],
   "source": [
    "movies=pd.read_csv(\"bollywood.csv\")\n",
    "movies.info()"
   ]
  },
  {
   "cell_type": "code",
   "execution_count": 61,
   "metadata": {},
   "outputs": [
    {
     "data": {
      "text/plain": [
       "count             1500\n",
       "unique             566\n",
       "top       Akshay Kumar\n",
       "freq                48\n",
       "Name: lead, dtype: object"
      ]
     },
     "execution_count": 61,
     "metadata": {},
     "output_type": "execute_result"
    }
   ],
   "source": [
    "movies=pd.read_csv(\"bollywood.csv\",index_col='movie',squeeze=True)\n",
    "movies.describe()"
   ]
  },
  {
   "cell_type": "code",
   "execution_count": 91,
   "metadata": {},
   "outputs": [
    {
     "name": "stdout",
     "output_type": "stream",
     "text": [
      "movie\n",
      "Uri: The Surgical Strike                   Vicky Kaushal\n",
      "Battalion 609                                Vicky Ahuja\n",
      "The Accidental Prime Minister (film)         Anupam Kher\n",
      "Why Cheat India                            Emraan Hashmi\n",
      "Evening Shadows                         Mona Ambegaonkar\n",
      "Name: lead, dtype: object\n",
      "******************************\n",
      "\n",
      "movie\n",
      "Uri: The Surgical Strike                       Vicky Kaushal\n",
      "Battalion 609                                    Vicky Ahuja\n",
      "The Accidental Prime Minister (film)             Anupam Kher\n",
      "Why Cheat India                                Emraan Hashmi\n",
      "Evening Shadows                             Mona Ambegaonkar\n",
      "Soni (film)                             Geetika Vidya Ohlyan\n",
      "Fraud Saiyaan                                   Arshad Warsi\n",
      "Bombairiya                                      Radhika Apte\n",
      "Manikarnika: The Queen of Jhansi              Kangana Ranaut\n",
      "Thackeray (film)                         Nawazuddin Siddiqui\n",
      "Name: lead, dtype: object\n",
      "******************************\n",
      "\n",
      "movie\n",
      "Hum Tumhare Hain Sanam      Shah Rukh Khan\n",
      "Aankhen (2002 film)       Amitabh Bachchan\n",
      "Saathiya (film)               Vivek Oberoi\n",
      "Company (film)                  Ajay Devgn\n",
      "Awara Paagal Deewana          Akshay Kumar\n",
      "Name: lead, dtype: object\n",
      "******************************\n",
      "\n",
      "movie\n",
      "Raaz (2002 film)                    Dino Morea\n",
      "Zameen (2003 film)                  Ajay Devgn\n",
      "Waisa Bhi Hota Hai Part II        Arshad Warsi\n",
      "Devdas (2002 Hindi film)        Shah Rukh Khan\n",
      "Kaante                        Amitabh Bachchan\n",
      "Hum Tumhare Hain Sanam          Shah Rukh Khan\n",
      "Aankhen (2002 film)           Amitabh Bachchan\n",
      "Saathiya (film)                   Vivek Oberoi\n",
      "Company (film)                      Ajay Devgn\n",
      "Awara Paagal Deewana              Akshay Kumar\n",
      "Name: lead, dtype: object\n",
      "******************************\n",
      "\n",
      "movie\n",
      "Uri: The Surgical Strike                   Vicky Kaushal\n",
      "Battalion 609                                Vicky Ahuja\n",
      "The Accidental Prime Minister (film)         Anupam Kher\n",
      "Why Cheat India                            Emraan Hashmi\n",
      "Evening Shadows                         Mona Ambegaonkar\n",
      "Name: lead, dtype: object\n",
      "******************************\n",
      "\n",
      "movie\n",
      "Hum Tumhare Hain Sanam      Shah Rukh Khan\n",
      "Aankhen (2002 film)       Amitabh Bachchan\n",
      "Saathiya (film)               Vivek Oberoi\n",
      "Company (film)                  Ajay Devgn\n",
      "Awara Paagal Deewana          Akshay Kumar\n",
      "Name: lead, dtype: object\n",
      "******************************\n",
      "\n",
      "movie\n",
      "Uri: The Surgical Strike                   Vicky Kaushal\n",
      "The Accidental Prime Minister (film)         Anupam Kher\n",
      "Evening Shadows                         Mona Ambegaonkar\n",
      "Name: lead, dtype: object\n",
      "******************************\n",
      "\n",
      "Vicky Kaushal\n",
      "******************************\n",
      "\n",
      "True\n",
      "******************************\n",
      "\n",
      "True\n",
      "******************************\n",
      "\n",
      "Akshay Kumar           48\n",
      "Amitabh Bachchan       45\n",
      "Ajay Devgn             38\n",
      "Salman Khan            31\n",
      "Sanjay Dutt            26\n",
      "                       ..\n",
      "Tanima Bhattacharya     1\n",
      "Simer Motiani           1\n",
      "Vikram Dasu             1\n",
      "Asha Bhosle             1\n",
      "Avinash Dhyani          1\n",
      "Name: lead, Length: 566, dtype: int64\n",
      "******************************\n",
      "\n",
      "Akshay Kumar        48\n",
      "Amitabh Bachchan    45\n",
      "Ajay Devgn          38\n",
      "Salman Khan         31\n",
      "Sanjay Dutt         26\n",
      "Shah Rukh Khan      22\n",
      "Emraan Hashmi       21\n",
      "Name: lead, dtype: int64\n"
     ]
    }
   ],
   "source": [
    "print(movies.head())#bydeafault top 5 values will be printed\n",
    "print(\"******************************\\n\")\n",
    "print(movies.head(10))#any other values also can be written\n",
    "print(\"******************************\\n\")\n",
    "print(movies.tail())#last 5 values will be printed\n",
    "print(\"******************************\\n\")\n",
    "print(movies.tail(10))#any other values also can be written\n",
    "print(\"******************************\\n\")\n",
    "print(movies[:5])#head\n",
    "print(\"******************************\\n\")\n",
    "print(movies[-5:])#tail\n",
    "print(\"******************************\\n\")\n",
    "print(movies[[0,2,4]])#for values specific on that index\n",
    "print(\"******************************\\n\")\n",
    "print(movies['Uri: The Surgical Strike'])\n",
    "print(\"******************************\\n\")\n",
    "print('2 States (2014 film)' in movies)\n",
    "print(\"******************************\\n\")\n",
    "print('Akshay Kumar' in movies.values)\n",
    "print(\"******************************\\n\")\n",
    "print(movies.value_counts())\n",
    "print(\"******************************\\n\")\n",
    "count=movies.value_counts()\n",
    "print(count[count>20])"
   ]
  },
  {
   "cell_type": "code",
   "execution_count": null,
   "metadata": {},
   "outputs": [],
   "source": []
  }
 ],
 "metadata": {
  "kernelspec": {
   "display_name": "Python 3",
   "language": "python",
   "name": "python3"
  },
  "language_info": {
   "codemirror_mode": {
    "name": "ipython",
    "version": 3
   },
   "file_extension": ".py",
   "mimetype": "text/x-python",
   "name": "python",
   "nbconvert_exporter": "python",
   "pygments_lexer": "ipython3",
   "version": "3.8.5"
  }
 },
 "nbformat": 4,
 "nbformat_minor": 4
}
